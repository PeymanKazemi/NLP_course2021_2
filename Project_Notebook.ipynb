{
  "cells": [
    {
      "cell_type": "markdown",
      "metadata": {
        "id": "view-in-github",
        "colab_type": "text"
      },
      "source": [
        "<a href=\"https://colab.research.google.com/github/PeymanKazemi/NLP_course2021_2/blob/main/Project_Notebook.ipynb\" target=\"_parent\"><img src=\"https://colab.research.google.com/assets/colab-badge.svg\" alt=\"Open In Colab\"/></a>"
      ]
    },
    {
      "cell_type": "markdown",
      "metadata": {
        "id": "n9U3VDyjFq8_"
      },
      "source": [
        "---\n",
        "This project will focuse on sementic comparision of sentences. The code will take two set of sentenses as example and analyze the similarities among meanings.\n",
        "this project is a part of an Idea includes: give a text, summurizing the given text by user then analyze the similarity of summurized text with given text.finally correct the grammatically and sementically flaws as a suggestion to user \n",
        "---"
      ]
    },
    {
      "cell_type": "markdown",
      "metadata": {
        "id": "SXWsuq4eFq9H"
      },
      "source": [
        "# Project Name (Sentence similarity check)\n",
        "Project description (replace with your project description, you can use the same from the `INFO.md` file."
      ]
    },
    {
      "cell_type": "markdown",
      "metadata": {
        "id": "PKiexB_3Fq9I"
      },
      "source": [
        "### Project Repo \n",
        "link (https://github.com/PeymanKazemi/NLP_course2021_2)"
      ]
    },
    {
      "cell_type": "markdown",
      "metadata": {
        "id": "zAvHb5biFq9J"
      },
      "source": [
        "## Participants:\n",
        "Peyman Kazemi\n",
        "Kazemi.peyman@gmail.com"
      ]
    },
    {
      "cell_type": "markdown",
      "metadata": {
        "id": "plyp5bf5Fq9J"
      },
      "source": [
        "### Course and Semester\n",
        "Natural Language Processing with Transformers\n",
        "Semester 2021-22\n"
      ]
    },
    {
      "cell_type": "markdown",
      "metadata": {
        "id": "A4yrhmorFq9K"
      },
      "source": [
        "### License\n",
        "If you are releasing the software under some certain license, you can mention it and also include the `LICENSE.md` file in the folder\n",
        "\n",
        "---"
      ]
    },
    {
      "cell_type": "code",
      "execution_count": null,
      "metadata": {
        "id": "WddPoR8aFq9L"
      },
      "outputs": [],
      "source": [
        "# Here you can start your code! Thanks"
      ]
    },
    {
      "cell_type": "code",
      "execution_count": null,
      "metadata": {
        "id": "cU5LZJzbFq9M"
      },
      "outputs": [],
      "source": [
        ""
      ]
    }
  ],
  "metadata": {
    "kernelspec": {
      "display_name": "Python 3",
      "language": "python",
      "name": "python3"
    },
    "language_info": {
      "codemirror_mode": {
        "name": "ipython",
        "version": 3
      },
      "file_extension": ".py",
      "mimetype": "text/x-python",
      "name": "python",
      "nbconvert_exporter": "python",
      "pygments_lexer": "ipython3",
      "version": "3.7.4"
    },
    "colab": {
      "name": "Project_Notebook.ipynb",
      "provenance": [],
      "include_colab_link": true
    }
  },
  "nbformat": 4,
  "nbformat_minor": 0
}